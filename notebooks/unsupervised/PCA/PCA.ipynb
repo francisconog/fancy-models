{
 "cells": [
  {
   "cell_type": "markdown",
   "metadata": {},
   "source": [
    "# Principal Component Analysis (PCA)"
   ]
  },
  {
   "cell_type": "markdown",
   "metadata": {},
   "source": [
    "## Importing packages"
   ]
  },
  {
   "cell_type": "code",
   "execution_count": 1,
   "metadata": {},
   "outputs": [],
   "source": [
    "import pandas as pd\n",
    "import seaborn as sns\n",
    "import matplotlib.pyplot as plt\n",
    "from os.path import join\n",
    "import numpy as np\n"
   ]
  },
  {
   "cell_type": "code",
   "execution_count": 2,
   "metadata": {},
   "outputs": [],
   "source": [
    "from fancyimpute import Solver"
   ]
  },
  {
   "cell_type": "code",
   "execution_count": 3,
   "metadata": {},
   "outputs": [],
   "source": [
    "pd.options.display.max_columns = None\n",
    "\n",
    "sns.set_theme(style='darkgrid')\n",
    "sns.set_palette(\"twilight_shifted\")"
   ]
  },
  {
   "cell_type": "markdown",
   "metadata": {},
   "source": [
    "## Reading Database"
   ]
  },
  {
   "cell_type": "code",
   "execution_count": 4,
   "metadata": {},
   "outputs": [
    {
     "data": {
      "text/plain": [
       "{'IN001': <function __main__.<lambda>(x)>,\n",
       " 'IN009': <function __main__.<lambda>(x)>,\n",
       " 'IN020': <function __main__.<lambda>(x)>,\n",
       " 'IN023': <function __main__.<lambda>(x)>,\n",
       " 'IN037': <function __main__.<lambda>(x)>,\n",
       " 'IN038': <function __main__.<lambda>(x)>,\n",
       " 'IN055': <function __main__.<lambda>(x)>,\n",
       " 'IN057': <function __main__.<lambda>(x)>}"
      ]
     },
     "execution_count": 4,
     "metadata": {},
     "output_type": "execute_result"
    }
   ],
   "source": [
    "numerical_columns = ['IN001', 'IN009', 'IN020', 'IN023', 'IN037', 'IN038', 'IN055', 'IN057']\n",
    "fmt_func = lambda x: x.str.replace(\",\", \".\").astype(float)\n",
    "columns_transformations = {c: fmt_func for c in numerical_columns}\n",
    "columns_transformations"
   ]
  },
  {
   "cell_type": "code",
   "execution_count": 5,
   "metadata": {},
   "outputs": [],
   "source": [
    "def get_consumption_bands(in022: float):\n",
    "    if np.isnan(in022):\n",
    "        return np.nan\n",
    "    elif in022 <= 50:\n",
    "        return \"Critic low\"\n",
    "    elif in022 > 50 and in022 <= 100:\n",
    "        return \"Low\"\n",
    "    elif in022 > 100 and in022 <= 150:\n",
    "        return \"Moderate\"\n",
    "    elif in022 > 150 and in022 <= 200:\n",
    "        return \"Moderate to High\"\n",
    "    else:\n",
    "        return \"Very High\"\n",
    "\n",
    "\n",
    "def preprocess_water_consumption_data(data: pd.DataFrame) -> pd.DataFrame:\n",
    "\n",
    "    columns_new_names = {\n",
    "        'Município': 'nm_municipio',\n",
    "        # 'Ano de Referência': 'ano',\n",
    "        # 'Sigla do Prestador': 'sg_prestador',\n",
    "        'Abrangência': 'abrangencia',\n",
    "        'Tipo de Serviço': 'tipo_servico',\n",
    "        'Natureza Jurídica': 'nat_juridica',\n",
    "        'IN001 - Densidade de economias de água por ligação': 'IN001',\n",
    "        'IN009 - Índice de hidrometração': 'IN009',\n",
    "        'IN020 - Extensão da rede de água por ligação': 'IN020',\n",
    "        'IN022 - Consumo médio percapita de água': 'IN022',\n",
    "        'IN023 - Índice de atendimento urbano de água': 'IN023',\n",
    "        'IN037 - Participação da despesa com energia elétrica nas despesas de exploração': 'IN037',\n",
    "        'IN038 - Participação da despesa com produtos químicos nas despesas de exploração (DEX)': 'IN038',\n",
    "        'IN055 - Índice de atendimento total de água': 'IN055',\n",
    "        'IN057 - Índice de fluoretação de água': 'IN057'\n",
    "    }\n",
    "\n",
    "    columns_transformations = {\n",
    "        \"IN001\": lambda x: x.str.replace(\",\", \".\").astype(float), \n",
    "        \"IN009\": lambda x: x.str.replace(\",\", \".\").astype(float), \n",
    "        \"IN020\": lambda x: x.str.replace(\",\", \".\").astype(float), \n",
    "        \"IN022\": lambda x: x.str.replace(\",\", \".\").astype(float), \n",
    "        \"IN023\": lambda x: x.str.replace(\",\", \".\").astype(float), \n",
    "        \"IN037\": lambda x: x.str.replace(\",\", \".\").astype(float), \n",
    "        \"IN038\": lambda x: x.str.replace(\",\", \".\").astype(float), \n",
    "        \"IN055\": lambda x: x.str.replace(\",\", \".\").astype(float), \n",
    "        \"IN057\": lambda x: x.str.replace(\",\", \".\").astype(float)\n",
    "        }\n",
    "    \n",
    "    selected_cols = columns_new_names.keys()\n",
    "    numerical_columns = ['IN001', 'IN009', 'IN020', 'IN023', 'IN037', 'IN038', 'IN055', 'IN057']\n",
    "    categorical_columns = ['tipo_servico']\n",
    "    target_col = 'consumption_bands'\n",
    "\n",
    "    fmt_func = lambda x: x.str.replace(\",\", \".\").astype(float)\n",
    "\n",
    "    df = (data[selected_cols]\n",
    "        .rename(columns=columns_new_names))\n",
    "\n",
    "    df[\"tipo_servico\"] = df[\"tipo_servico\"].str.rstrip()\n",
    "    df[list(columns_transformations.keys())] = df.agg(columns_transformations)\n",
    "\n",
    "    df[target_col] = df[\"IN022\"].apply(get_consumption_bands)\n",
    "\n",
    "    df = (df[df[\"consumption_bands\"].notna()]\n",
    "        .drop(columns=[\"IN022\"]))\n",
    "            \n",
    "\n",
    "    return df"
   ]
  },
  {
   "cell_type": "code",
   "execution_count": 6,
   "metadata": {},
   "outputs": [
    {
     "name": "stdout",
     "output_type": "stream",
     "text": [
      "(511, 13)\n"
     ]
    },
    {
     "data": {
      "text/html": [
       "<div>\n",
       "<style scoped>\n",
       "    .dataframe tbody tr th:only-of-type {\n",
       "        vertical-align: middle;\n",
       "    }\n",
       "\n",
       "    .dataframe tbody tr th {\n",
       "        vertical-align: top;\n",
       "    }\n",
       "\n",
       "    .dataframe thead th {\n",
       "        text-align: right;\n",
       "    }\n",
       "</style>\n",
       "<table border=\"1\" class=\"dataframe\">\n",
       "  <thead>\n",
       "    <tr style=\"text-align: right;\">\n",
       "      <th></th>\n",
       "      <th>nm_municipio</th>\n",
       "      <th>abrangencia</th>\n",
       "      <th>tipo_servico</th>\n",
       "      <th>nat_juridica</th>\n",
       "      <th>IN001</th>\n",
       "      <th>IN009</th>\n",
       "      <th>IN020</th>\n",
       "      <th>IN023</th>\n",
       "      <th>IN037</th>\n",
       "      <th>IN038</th>\n",
       "      <th>IN055</th>\n",
       "      <th>IN057</th>\n",
       "      <th>consumption_bands</th>\n",
       "    </tr>\n",
       "  </thead>\n",
       "  <tbody>\n",
       "    <tr>\n",
       "      <th>0</th>\n",
       "      <td>Acopiara</td>\n",
       "      <td>Microrregional</td>\n",
       "      <td>Água</td>\n",
       "      <td>Organização social</td>\n",
       "      <td>1.0</td>\n",
       "      <td>100.00</td>\n",
       "      <td>37.69</td>\n",
       "      <td>NaN</td>\n",
       "      <td>54.21</td>\n",
       "      <td>18.39</td>\n",
       "      <td>20.76</td>\n",
       "      <td>0.0</td>\n",
       "      <td>Critic low</td>\n",
       "    </tr>\n",
       "    <tr>\n",
       "      <th>1</th>\n",
       "      <td>Aiuaba</td>\n",
       "      <td>Local</td>\n",
       "      <td>Água</td>\n",
       "      <td>Administração pública direta</td>\n",
       "      <td>1.0</td>\n",
       "      <td>90.95</td>\n",
       "      <td>33.41</td>\n",
       "      <td>NaN</td>\n",
       "      <td>38.60</td>\n",
       "      <td>2.63</td>\n",
       "      <td>65.39</td>\n",
       "      <td>0.0</td>\n",
       "      <td>Low</td>\n",
       "    </tr>\n",
       "    <tr>\n",
       "      <th>2</th>\n",
       "      <td>Aiuaba</td>\n",
       "      <td>Local</td>\n",
       "      <td>Água</td>\n",
       "      <td>Administração pública direta</td>\n",
       "      <td>1.0</td>\n",
       "      <td>45.72</td>\n",
       "      <td>30.18</td>\n",
       "      <td>100.00</td>\n",
       "      <td>40.04</td>\n",
       "      <td>2.69</td>\n",
       "      <td>59.03</td>\n",
       "      <td>0.0</td>\n",
       "      <td>Low</td>\n",
       "    </tr>\n",
       "    <tr>\n",
       "      <th>3</th>\n",
       "      <td>Aiuaba</td>\n",
       "      <td>Local</td>\n",
       "      <td>Água</td>\n",
       "      <td>Administração pública direta</td>\n",
       "      <td>1.0</td>\n",
       "      <td>0.00</td>\n",
       "      <td>12.77</td>\n",
       "      <td>100.00</td>\n",
       "      <td>19.23</td>\n",
       "      <td>9.66</td>\n",
       "      <td>58.31</td>\n",
       "      <td>0.0</td>\n",
       "      <td>Low</td>\n",
       "    </tr>\n",
       "    <tr>\n",
       "      <th>4</th>\n",
       "      <td>Aiuaba</td>\n",
       "      <td>Local</td>\n",
       "      <td>Água</td>\n",
       "      <td>Administração pública direta</td>\n",
       "      <td>1.0</td>\n",
       "      <td>0.00</td>\n",
       "      <td>10.65</td>\n",
       "      <td>98.26</td>\n",
       "      <td>25.45</td>\n",
       "      <td>1.49</td>\n",
       "      <td>57.78</td>\n",
       "      <td>0.0</td>\n",
       "      <td>Moderate to High</td>\n",
       "    </tr>\n",
       "  </tbody>\n",
       "</table>\n",
       "</div>"
      ],
      "text/plain": [
       "  nm_municipio     abrangencia tipo_servico                  nat_juridica  \\\n",
       "0     Acopiara  Microrregional         Água            Organização social   \n",
       "1       Aiuaba           Local         Água  Administração pública direta   \n",
       "2       Aiuaba           Local         Água  Administração pública direta   \n",
       "3       Aiuaba           Local         Água  Administração pública direta   \n",
       "4       Aiuaba           Local         Água  Administração pública direta   \n",
       "\n",
       "   IN001   IN009  IN020   IN023  IN037  IN038  IN055  IN057 consumption_bands  \n",
       "0    1.0  100.00  37.69     NaN  54.21  18.39  20.76    0.0        Critic low  \n",
       "1    1.0   90.95  33.41     NaN  38.60   2.63  65.39    0.0               Low  \n",
       "2    1.0   45.72  30.18  100.00  40.04   2.69  59.03    0.0               Low  \n",
       "3    1.0    0.00  12.77  100.00  19.23   9.66  58.31    0.0               Low  \n",
       "4    1.0    0.00  10.65   98.26  25.45   1.49  57.78    0.0  Moderate to High  "
      ]
     },
     "execution_count": 6,
     "metadata": {},
     "output_type": "execute_result"
    }
   ],
   "source": [
    "data = pd.read_csv(\"../../../data/external/Agregado-20241114133303.csv\", \n",
    "                   encoding=\"latin-1\",\n",
    "                   sep=\";\")\n",
    "df = preprocess_water_consumption_data(data)\n",
    "print(df.shape)\n",
    "df.head()"
   ]
  },
  {
   "cell_type": "code",
   "execution_count": 7,
   "metadata": {},
   "outputs": [
    {
     "data": {
      "text/plain": [
       "nm_municipio          object\n",
       "abrangencia           object\n",
       "tipo_servico          object\n",
       "nat_juridica          object\n",
       "IN001                float64\n",
       "IN009                float64\n",
       "IN020                float64\n",
       "IN023                float64\n",
       "IN037                float64\n",
       "IN038                float64\n",
       "IN055                float64\n",
       "IN057                float64\n",
       "consumption_bands     object\n",
       "dtype: object"
      ]
     },
     "execution_count": 7,
     "metadata": {},
     "output_type": "execute_result"
    }
   ],
   "source": [
    "df.dtypes"
   ]
  },
  {
   "cell_type": "markdown",
   "metadata": {},
   "source": [
    "# 5. Perform an unconditional multi-variate analysis of the predictors.\n",
    "\n",
    "Perform an unconditional multi-variate analysis of the predictors. Specifically, you must perform a principal components analysis of the predictors, for the sake of visualisation, retain only the first two principal components (those associated with the two largest eigenvalues) and plot the scatter plot of the projected observations. Again, for each projected point (observation) you must use colours or symbols to indicate the associated class label. [Remember to perform the necessary preprocessing of the data]"
   ]
  },
  {
   "cell_type": "code",
   "execution_count": 10,
   "metadata": {},
   "outputs": [],
   "source": [
    "from sklearn.compose import make_column_transformer\n",
    "from sklearn.preprocessing import LabelEncoder, MinMaxScaler, OneHotEncoder, StandardScaler\n",
    "from sklearn.decomposition import PCA"
   ]
  },
  {
   "cell_type": "code",
   "execution_count": 11,
   "metadata": {},
   "outputs": [],
   "source": [
    "X = (df[numerical_columns + [\"consumption_bands\"]].dropna()\n",
    "     )\n",
    "\n",
    "labels = X[\"consumption_bands\"]\n",
    "\n",
    "X.drop(columns=[\"consumption_bands\"], inplace=True)"
   ]
  },
  {
   "cell_type": "code",
   "execution_count": 12,
   "metadata": {},
   "outputs": [],
   "source": [
    "ohe = make_column_transformer(\n",
    "  (StandardScaler(), numerical_columns),\n",
    "  # (OneHotEncoder(handle_unknown = 'ignore', sparse_output=False, dtype=float), categorical_columns),\n",
    "  remainder='passthrough')\n",
    "\n",
    "ohe.fit(X)\n",
    "X_transformed = ohe.transform(X)"
   ]
  },
  {
   "cell_type": "code",
   "execution_count": 13,
   "metadata": {},
   "outputs": [
    {
     "name": "stdout",
     "output_type": "stream",
     "text": [
      "(422, 8)\n"
     ]
    },
    {
     "data": {
      "text/html": [
       "<div>\n",
       "<style scoped>\n",
       "    .dataframe tbody tr th:only-of-type {\n",
       "        vertical-align: middle;\n",
       "    }\n",
       "\n",
       "    .dataframe tbody tr th {\n",
       "        vertical-align: top;\n",
       "    }\n",
       "\n",
       "    .dataframe thead th {\n",
       "        text-align: right;\n",
       "    }\n",
       "</style>\n",
       "<table border=\"1\" class=\"dataframe\">\n",
       "  <thead>\n",
       "    <tr style=\"text-align: right;\">\n",
       "      <th></th>\n",
       "      <th>IN001</th>\n",
       "      <th>IN009</th>\n",
       "      <th>IN020</th>\n",
       "      <th>IN023</th>\n",
       "      <th>IN037</th>\n",
       "      <th>IN038</th>\n",
       "      <th>IN055</th>\n",
       "      <th>IN057</th>\n",
       "    </tr>\n",
       "  </thead>\n",
       "  <tbody>\n",
       "    <tr>\n",
       "      <th>0</th>\n",
       "      <td>-0.563576</td>\n",
       "      <td>-1.241541</td>\n",
       "      <td>2.047297</td>\n",
       "      <td>0.418907</td>\n",
       "      <td>1.378935</td>\n",
       "      <td>-0.715113</td>\n",
       "      <td>-0.699146</td>\n",
       "      <td>-0.966671</td>\n",
       "    </tr>\n",
       "    <tr>\n",
       "      <th>1</th>\n",
       "      <td>-0.563576</td>\n",
       "      <td>-2.866769</td>\n",
       "      <td>0.148696</td>\n",
       "      <td>0.418907</td>\n",
       "      <td>-0.213527</td>\n",
       "      <td>0.542527</td>\n",
       "      <td>-0.733658</td>\n",
       "      <td>-0.966671</td>\n",
       "    </tr>\n",
       "    <tr>\n",
       "      <th>2</th>\n",
       "      <td>-0.563576</td>\n",
       "      <td>-2.866769</td>\n",
       "      <td>-0.082495</td>\n",
       "      <td>0.283465</td>\n",
       "      <td>0.262451</td>\n",
       "      <td>-0.931636</td>\n",
       "      <td>-0.759062</td>\n",
       "      <td>-0.966671</td>\n",
       "    </tr>\n",
       "    <tr>\n",
       "      <th>3</th>\n",
       "      <td>-0.191678</td>\n",
       "      <td>-2.866769</td>\n",
       "      <td>-0.058503</td>\n",
       "      <td>0.326277</td>\n",
       "      <td>-1.685081</td>\n",
       "      <td>-0.875701</td>\n",
       "      <td>-0.743724</td>\n",
       "      <td>-0.966671</td>\n",
       "    </tr>\n",
       "    <tr>\n",
       "      <th>4</th>\n",
       "      <td>-0.005728</td>\n",
       "      <td>-2.866769</td>\n",
       "      <td>-0.041055</td>\n",
       "      <td>0.060843</td>\n",
       "      <td>-1.685081</td>\n",
       "      <td>-1.200486</td>\n",
       "      <td>-2.366273</td>\n",
       "      <td>-0.966671</td>\n",
       "    </tr>\n",
       "  </tbody>\n",
       "</table>\n",
       "</div>"
      ],
      "text/plain": [
       "      IN001     IN009     IN020     IN023     IN037     IN038     IN055  \\\n",
       "0 -0.563576 -1.241541  2.047297  0.418907  1.378935 -0.715113 -0.699146   \n",
       "1 -0.563576 -2.866769  0.148696  0.418907 -0.213527  0.542527 -0.733658   \n",
       "2 -0.563576 -2.866769 -0.082495  0.283465  0.262451 -0.931636 -0.759062   \n",
       "3 -0.191678 -2.866769 -0.058503  0.326277 -1.685081 -0.875701 -0.743724   \n",
       "4 -0.005728 -2.866769 -0.041055  0.060843 -1.685081 -1.200486 -2.366273   \n",
       "\n",
       "      IN057  \n",
       "0 -0.966671  \n",
       "1 -0.966671  \n",
       "2 -0.966671  \n",
       "3 -0.966671  \n",
       "4 -0.966671  "
      ]
     },
     "execution_count": 13,
     "metadata": {},
     "output_type": "execute_result"
    }
   ],
   "source": [
    "dummies_columns = [x.split(\"__\")[1] for x in ohe.get_feature_names_out()]\n",
    "dummies = pd.DataFrame(X_transformed, columns=dummies_columns)\n",
    "X = dummies.astype({c: float for c in dummies_columns})\n",
    "\n",
    "print(X.shape)\n",
    "X.head()"
   ]
  },
  {
   "cell_type": "markdown",
   "metadata": {},
   "source": [
    "## Custom PCA"
   ]
  },
  {
   "cell_type": "code",
   "execution_count": 26,
   "metadata": {},
   "outputs": [],
   "source": [
    "_X = X.values\n",
    "\n",
    "cov_x = np.cov(_X.T)\n",
    "\n",
    "\n",
    "eig_vals, eig_vecs = np.linalg.eig(cov_x)"
   ]
  },
  {
   "cell_type": "markdown",
   "metadata": {},
   "source": [
    "Na prática, o algoritmo do PCA sempre vai convergir para a mesma solução até os sinais dos vetores de *loadings* e *scores*. Como $VAR(Z) = VAR(-Z)$, desde que ambos os valores $z_{im}$ e $\\phi_{jm}$ estejam com sinais trocados o produto final das duas quantidades permanece inalterado. lembrando que $x_{ij} \\approx \\sum_{m=1}^{M}  z_{im} \\phi_{jm}$ (ILS, Pág. 514).\n",
    "\n",
    "Uma forma de padronizar a saída do PCA é ajustando os sinais dos vetores de *loadings* para serem positivos na direção do maior valor em módulo. Como exemplificado abaixo. "
   ]
  },
  {
   "cell_type": "code",
   "execution_count": null,
   "metadata": {},
   "outputs": [
    {
     "name": "stdout",
     "output_type": "stream",
     "text": [
      "Eigenvalues \n",
      " [2.04402062 1.37188609 1.17171433 1.0093241  0.39631954 0.75490843\n",
      " 0.68294189 0.58788737]\n",
      "Eigenvectors \n",
      " [[ 0.15807505  0.51125571 -0.03734526  0.30873008 -0.3021006   0.41950534\n",
      "   0.30240383  0.50815684]\n",
      " [ 0.15291694 -0.15852641  0.08728502  0.45684927  0.46790961 -0.33019268\n",
      "   0.63800346  0.01186726]\n",
      " [-0.4622682   0.21196123  0.73855033  0.09457468  0.29100911  0.29517131\n",
      "  -0.06400368 -0.10521744]\n",
      " [ 0.72659109  0.14851757  0.46647706 -0.46864054  0.04822698 -0.03307759\n",
      "   0.08294779 -0.04982782]\n",
      " [-0.23448784  0.35764182 -0.2969182  -0.40485446  0.03285073  0.1571145\n",
      "   0.5420245  -0.49546497]\n",
      " [-0.34068433  0.0142399   0.00558033 -0.52277361  0.18829605 -0.3007262\n",
      "   0.15240089  0.67918358]\n",
      " [ 0.19642526  0.18121046 -0.37279505 -0.02114954  0.75238412  0.34095222\n",
      "  -0.31299725  0.09412161]\n",
      " [-0.01920784  0.69681724 -0.02759526  0.17250937  0.01293237 -0.62880697\n",
      "  -0.27485056 -0.11156845]]\n"
     ]
    }
   ],
   "source": [
    "## Isso é opcional\n",
    "# Índice do maior valor absoluto da coluna\n",
    "max_abs_idx = np.argmax(np.abs(eig_vecs), axis=0)\n",
    "\n",
    "# Sinal dos maiores valores de cada coluna\n",
    "signs = np.sign(eig_vecs[max_abs_idx, range(eig_vecs.shape[0])])\n",
    "\n",
    "# Ajustando os autovetores (loadings) para serem positivos na direção do maior valor\n",
    "eig_vecs = eig_vecs * signs#[np.newaxis, :]\n",
    "eig_vecs = eig_vecs.T\n",
    "\n",
    "print('Eigenvalues \\n', eig_vals)\n",
    "print('Eigenvectors \\n', eig_vecs)\n",
    "\n"
   ]
  },
  {
   "cell_type": "code",
   "execution_count": 87,
   "metadata": {},
   "outputs": [
    {
     "data": {
      "text/plain": [
       "array([[ 0.15807505,  0.15291694, -0.4622682 ,  0.72659109, -0.23448784,\n",
       "        -0.34068433,  0.19642526, -0.01920784],\n",
       "       [ 0.51125571, -0.15852641,  0.21196123,  0.14851757,  0.35764182,\n",
       "         0.0142399 ,  0.18121046,  0.69681724],\n",
       "       [-0.03734526,  0.08728502,  0.73855033,  0.46647706, -0.2969182 ,\n",
       "         0.00558033, -0.37279505, -0.02759526],\n",
       "       [ 0.30873008,  0.45684927,  0.09457468, -0.46864054, -0.40485446,\n",
       "        -0.52277361, -0.02114954,  0.17250937],\n",
       "       [ 0.41950534, -0.33019268,  0.29517131, -0.03307759,  0.1571145 ,\n",
       "        -0.3007262 ,  0.34095222, -0.62880697],\n",
       "       [ 0.30240383,  0.63800346, -0.06400368,  0.08294779,  0.5420245 ,\n",
       "         0.15240089, -0.31299725, -0.27485056],\n",
       "       [ 0.50815684,  0.01186726, -0.10521744, -0.04982782, -0.49546497,\n",
       "         0.67918358,  0.09412161, -0.11156845],\n",
       "       [-0.3021006 ,  0.46790961,  0.29100911,  0.04822698,  0.03285073,\n",
       "         0.18829605,  0.75238412,  0.01293237]])"
      ]
     },
     "execution_count": 87,
     "metadata": {},
     "output_type": "execute_result"
    }
   ],
   "source": [
    "eig_vecs[:, sorted_index[::-1]].T"
   ]
  },
  {
   "cell_type": "code",
   "execution_count": 83,
   "metadata": {},
   "outputs": [
    {
     "data": {
      "text/plain": [
       "array([2.04402062, 1.37188609, 1.17171433, 1.0093241 , 0.75490843,\n",
       "       0.68294189, 0.58788737, 0.39631954])"
      ]
     },
     "execution_count": 83,
     "metadata": {},
     "output_type": "execute_result"
    }
   ],
   "source": [
    "sorted_index = np.argsort(eig_vals)\n",
    "eig_vals[sorted_index[::-1]]"
   ]
  },
  {
   "cell_type": "code",
   "execution_count": 72,
   "metadata": {},
   "outputs": [],
   "source": [
    "# Agrupando os pares de autovalores e autovetores\n",
    "eig_pairs = [(np.abs(eig_vals[i]), eig_vecs[i,:]) for i in range(len(eig_vals))]\n",
    "\n",
    "# Ordenando os dados em ordem de Magnitude\n",
    "eig_pairs.sort(key=lambda x: x[0], reverse=True)\n",
    "\n",
    "# For further usage\n",
    "eig_vals_sorted = np.array([x[0] for x in eig_pairs])\n",
    "eig_vecs_sorted = np.array([x[1] for x in eig_pairs])\n"
   ]
  },
  {
   "cell_type": "code",
   "execution_count": 82,
   "metadata": {},
   "outputs": [
    {
     "data": {
      "text/plain": [
       "array([2.04402062, 1.37188609, 1.17171433, 1.0093241 , 0.75490843,\n",
       "       0.68294189, 0.58788737, 0.39631954])"
      ]
     },
     "execution_count": 82,
     "metadata": {},
     "output_type": "execute_result"
    }
   ],
   "source": [
    "eig_vals_sorted"
   ]
  },
  {
   "cell_type": "code",
   "execution_count": 77,
   "metadata": {},
   "outputs": [
    {
     "data": {
      "text/plain": [
       "array([[ 0.15807505,  0.15291694, -0.4622682 ,  0.72659109, -0.34068433,\n",
       "         0.19642526, -0.01920784, -0.23448784],\n",
       "       [ 0.51125571, -0.15852641,  0.21196123,  0.14851757,  0.0142399 ,\n",
       "         0.18121046,  0.69681724,  0.35764182],\n",
       "       [-0.03734526,  0.08728502,  0.73855033,  0.46647706,  0.00558033,\n",
       "        -0.37279505, -0.02759526, -0.2969182 ],\n",
       "       [ 0.30873008,  0.45684927,  0.09457468, -0.46864054, -0.52277361,\n",
       "        -0.02114954,  0.17250937, -0.40485446],\n",
       "       [-0.3021006 ,  0.46790961,  0.29100911,  0.04822698,  0.18829605,\n",
       "         0.75238412,  0.01293237,  0.03285073],\n",
       "       [ 0.41950534, -0.33019268,  0.29517131, -0.03307759, -0.3007262 ,\n",
       "         0.34095222, -0.62880697,  0.1571145 ],\n",
       "       [ 0.30240383,  0.63800346, -0.06400368,  0.08294779,  0.15240089,\n",
       "        -0.31299725, -0.27485056,  0.5420245 ],\n",
       "       [ 0.50815684,  0.01186726, -0.10521744, -0.04982782,  0.67918358,\n",
       "         0.09412161, -0.11156845, -0.49546497]])"
      ]
     },
     "execution_count": 77,
     "metadata": {},
     "output_type": "execute_result"
    }
   ],
   "source": [
    "eig_vecs_sorted.T"
   ]
  },
  {
   "cell_type": "code",
   "execution_count": 64,
   "metadata": {},
   "outputs": [
    {
     "data": {
      "text/plain": [
       "array([ 0.51125571,  0.63800346, -0.73855033,  0.72659109,  0.5420245 ,\n",
       "        0.67918358, -0.75238412,  0.69681724])"
      ]
     },
     "execution_count": 64,
     "metadata": {},
     "output_type": "execute_result"
    }
   ],
   "source": [
    "eig_vecs[max_abs_idx, range(eig_vecs.shape[0])]"
   ]
  },
  {
   "cell_type": "markdown",
   "metadata": {},
   "source": [
    "## Using Scikit-learn"
   ]
  },
  {
   "cell_type": "code",
   "execution_count": null,
   "metadata": {},
   "outputs": [],
   "source": [
    "pca = PCA(n_components=X.shape[1])\n",
    "pca_features  = pca.fit_transform(X)\n"
   ]
  },
  {
   "cell_type": "code",
   "execution_count": null,
   "metadata": {},
   "outputs": [
    {
     "data": {
      "text/html": [
       "<div>\n",
       "<style scoped>\n",
       "    .dataframe tbody tr th:only-of-type {\n",
       "        vertical-align: middle;\n",
       "    }\n",
       "\n",
       "    .dataframe tbody tr th {\n",
       "        vertical-align: top;\n",
       "    }\n",
       "\n",
       "    .dataframe thead th {\n",
       "        text-align: right;\n",
       "    }\n",
       "</style>\n",
       "<table border=\"1\" class=\"dataframe\">\n",
       "  <thead>\n",
       "    <tr style=\"text-align: right;\">\n",
       "      <th></th>\n",
       "      <th>PC1</th>\n",
       "      <th>PC2</th>\n",
       "      <th>PC3</th>\n",
       "      <th>PC4</th>\n",
       "      <th>PC5</th>\n",
       "      <th>PC6</th>\n",
       "      <th>PC7</th>\n",
       "      <th>PC8</th>\n",
       "    </tr>\n",
       "    <tr>\n",
       "      <th>feature_names</th>\n",
       "      <th></th>\n",
       "      <th></th>\n",
       "      <th></th>\n",
       "      <th></th>\n",
       "      <th></th>\n",
       "      <th></th>\n",
       "      <th></th>\n",
       "      <th></th>\n",
       "    </tr>\n",
       "  </thead>\n",
       "  <tbody>\n",
       "    <tr>\n",
       "      <th>IN001</th>\n",
       "      <td>-0.158075</td>\n",
       "      <td>-0.152917</td>\n",
       "      <td>-0.462268</td>\n",
       "      <td>0.726591</td>\n",
       "      <td>-0.340684</td>\n",
       "      <td>0.196425</td>\n",
       "      <td>0.019208</td>\n",
       "      <td>-0.234488</td>\n",
       "    </tr>\n",
       "    <tr>\n",
       "      <th>IN009</th>\n",
       "      <td>-0.511256</td>\n",
       "      <td>0.158526</td>\n",
       "      <td>0.211961</td>\n",
       "      <td>0.148518</td>\n",
       "      <td>0.014240</td>\n",
       "      <td>0.181210</td>\n",
       "      <td>-0.696817</td>\n",
       "      <td>0.357642</td>\n",
       "    </tr>\n",
       "    <tr>\n",
       "      <th>IN020</th>\n",
       "      <td>0.037345</td>\n",
       "      <td>-0.087285</td>\n",
       "      <td>0.738550</td>\n",
       "      <td>0.466477</td>\n",
       "      <td>0.005580</td>\n",
       "      <td>-0.372795</td>\n",
       "      <td>0.027595</td>\n",
       "      <td>-0.296918</td>\n",
       "    </tr>\n",
       "    <tr>\n",
       "      <th>IN023</th>\n",
       "      <td>-0.308730</td>\n",
       "      <td>-0.456849</td>\n",
       "      <td>0.094575</td>\n",
       "      <td>-0.468641</td>\n",
       "      <td>-0.522774</td>\n",
       "      <td>-0.021150</td>\n",
       "      <td>-0.172509</td>\n",
       "      <td>-0.404854</td>\n",
       "    </tr>\n",
       "    <tr>\n",
       "      <th>IN037</th>\n",
       "      <td>0.302101</td>\n",
       "      <td>-0.467910</td>\n",
       "      <td>0.291009</td>\n",
       "      <td>0.048227</td>\n",
       "      <td>0.188296</td>\n",
       "      <td>0.752384</td>\n",
       "      <td>-0.012932</td>\n",
       "      <td>0.032851</td>\n",
       "    </tr>\n",
       "    <tr>\n",
       "      <th>IN038</th>\n",
       "      <td>-0.419505</td>\n",
       "      <td>0.330193</td>\n",
       "      <td>0.295171</td>\n",
       "      <td>-0.033078</td>\n",
       "      <td>-0.300726</td>\n",
       "      <td>0.340952</td>\n",
       "      <td>0.628807</td>\n",
       "      <td>0.157115</td>\n",
       "    </tr>\n",
       "    <tr>\n",
       "      <th>IN055</th>\n",
       "      <td>-0.302404</td>\n",
       "      <td>-0.638003</td>\n",
       "      <td>-0.064004</td>\n",
       "      <td>0.082948</td>\n",
       "      <td>0.152401</td>\n",
       "      <td>-0.312997</td>\n",
       "      <td>0.274851</td>\n",
       "      <td>0.542025</td>\n",
       "    </tr>\n",
       "    <tr>\n",
       "      <th>IN057</th>\n",
       "      <td>-0.508157</td>\n",
       "      <td>-0.011867</td>\n",
       "      <td>-0.105217</td>\n",
       "      <td>-0.049828</td>\n",
       "      <td>0.679184</td>\n",
       "      <td>0.094122</td>\n",
       "      <td>0.111568</td>\n",
       "      <td>-0.495465</td>\n",
       "    </tr>\n",
       "  </tbody>\n",
       "</table>\n",
       "</div>"
      ],
      "text/plain": [
       "                    PC1       PC2       PC3       PC4       PC5       PC6  \\\n",
       "feature_names                                                               \n",
       "IN001         -0.158075 -0.152917 -0.462268  0.726591 -0.340684  0.196425   \n",
       "IN009         -0.511256  0.158526  0.211961  0.148518  0.014240  0.181210   \n",
       "IN020          0.037345 -0.087285  0.738550  0.466477  0.005580 -0.372795   \n",
       "IN023         -0.308730 -0.456849  0.094575 -0.468641 -0.522774 -0.021150   \n",
       "IN037          0.302101 -0.467910  0.291009  0.048227  0.188296  0.752384   \n",
       "IN038         -0.419505  0.330193  0.295171 -0.033078 -0.300726  0.340952   \n",
       "IN055         -0.302404 -0.638003 -0.064004  0.082948  0.152401 -0.312997   \n",
       "IN057         -0.508157 -0.011867 -0.105217 -0.049828  0.679184  0.094122   \n",
       "\n",
       "                    PC7       PC8  \n",
       "feature_names                      \n",
       "IN001          0.019208 -0.234488  \n",
       "IN009         -0.696817  0.357642  \n",
       "IN020          0.027595 -0.296918  \n",
       "IN023         -0.172509 -0.404854  \n",
       "IN037         -0.012932  0.032851  \n",
       "IN038          0.628807  0.157115  \n",
       "IN055          0.274851  0.542025  \n",
       "IN057          0.111568 -0.495465  "
      ]
     },
     "metadata": {},
     "output_type": "display_data"
    }
   ],
   "source": [
    "# Principal components correlation coefficients\n",
    "loadings = pca.components_\n",
    " \n",
    "# Number of features before PCA\n",
    "n_features = pca.n_features_in_\n",
    " \n",
    "# Feature names before PCA\n",
    "feature_names = pca.feature_names_in_\n",
    "\n",
    "# PC names\n",
    "pc_list = [f'PC{i}' for i in list(range(1, n_features + 1))]\n",
    " \n",
    "# Match PC names to loadings\n",
    "pc_loadings = dict(zip(pc_list, loadings))\n",
    " \n",
    "# Matrix of corr coefs between feature names and PCs\n",
    "loadings_df = pd.DataFrame.from_dict(pc_loadings)\n",
    "loadings_df['feature_names'] = feature_names\n",
    "loadings_df = loadings_df.set_index('feature_names')\n",
    "loadings_df.head(10)"
   ]
  },
  {
   "cell_type": "markdown",
   "metadata": {},
   "source": []
  }
 ],
 "metadata": {
  "kernelspec": {
   "display_name": "ML",
   "language": "python",
   "name": "python3"
  },
  "language_info": {
   "codemirror_mode": {
    "name": "ipython",
    "version": 3
   },
   "file_extension": ".py",
   "mimetype": "text/x-python",
   "name": "python",
   "nbconvert_exporter": "python",
   "pygments_lexer": "ipython3",
   "version": "3.10.9"
  }
 },
 "nbformat": 4,
 "nbformat_minor": 2
}
