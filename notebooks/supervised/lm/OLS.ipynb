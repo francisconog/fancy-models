{
 "cells": [
  {
   "cell_type": "markdown",
   "metadata": {},
   "source": [
    "# Ordinary Least Squares\n",
    "\n",
    "The explaination of this algorithm was taken from the book *The Elements of Statistical Learning*, chapter 3."
   ]
  },
  {
   "cell_type": "markdown",
   "metadata": {},
   "source": [
    "## Importing packages"
   ]
  },
  {
   "cell_type": "code",
   "execution_count": 1,
   "metadata": {},
   "outputs": [],
   "source": [
    "import pandas as pd\n",
    "import seaborn as sns\n",
    "import matplotlib.pyplot as plt\n",
    "from os.path import join\n",
    "import numpy as np\n",
    "from sklearn.base import BaseEstimator, ClassifierMixin, RegressorMixin"
   ]
  },
  {
   "cell_type": "markdown",
   "metadata": {},
   "source": [
    "## Explaining the Algorithm\n",
    "In a *Ordinary Least Square* Algorithm we want to minimize the Residual Square Sum with a set of coefficients $\\beta = (\\beta_0, \\beta_1, ..., \\beta_p)^T$, given by the following equation:\n",
    "\n",
    "$$ RSS(\\beta) = (\\bold{y} - \\bold{X} \\beta)^T (\\bold{y} - \\bold{X}  \\beta) $$\n",
    "\n",
    "Denote by $\\bold{X}$ the $N \\times (p + 1)$ matrix with each row an input vector (with a 1 in the first position) (this is due to the necessity of incorporating the intercept to the coefficients $\\beta$ as the element $\\beta_0$), and similarly let $\\bold{y}$ be the N-vector of outputs in the training set.\n",
    "\n",
    "One way to minimize this function is by setting it's derivative in respect to $\\beta$ to zero.\n",
    "\n",
    "$$ \\frac{\\partial RSS}{\\partial\\beta}  = -2\\bold{X}^T (\\bold{y} - \\bold{X}  \\beta)$$\n",
    "$$ \\bold{X}^T (\\bold{y} - \\bold{X}  \\beta) = 0 $$\n",
    "\n",
    "$$ \\hat{\\beta} =  (\\bold{X}^T \\bold{X})^{-1} \\bold{X}^T \\bold{y}$$"
   ]
  },
  {
   "cell_type": "code",
   "execution_count": null,
   "metadata": {},
   "outputs": [],
   "source": [
    "X = np.array([[1], [2], [3], [4]])\n",
    "y = np.array([1, 3, 2, 5])\n",
    "\n",
    "# Adding a new column with ones to represent the intercept\n",
    "_X = np.hstack((np.ones([X.shape[0],1], X.dtype), X))\n"
   ]
  },
  {
   "cell_type": "code",
   "execution_count": 14,
   "metadata": {},
   "outputs": [
    {
     "data": {
      "text/plain": [
       "array([[1, 1],\n",
       "       [1, 2],\n",
       "       [1, 3],\n",
       "       [1, 4]])"
      ]
     },
     "execution_count": 14,
     "metadata": {},
     "output_type": "execute_result"
    }
   ],
   "source": [
    "_X"
   ]
  },
  {
   "cell_type": "code",
   "execution_count": 16,
   "metadata": {},
   "outputs": [
    {
     "data": {
      "text/plain": [
       "array([0. , 1.1])"
      ]
     },
     "execution_count": 16,
     "metadata": {},
     "output_type": "execute_result"
    }
   ],
   "source": [
    "weights = np.linalg.inv(_X.T @ _X) @ _X.T @ y\n",
    "weights"
   ]
  },
  {
   "cell_type": "markdown",
   "metadata": {},
   "source": [
    "## Custom Model"
   ]
  },
  {
   "cell_type": "code",
   "execution_count": 4,
   "metadata": {},
   "outputs": [],
   "source": [
    "class OLSRegressor(BaseEstimator, RegressorMixin):\n",
    "    def __init__(self):\n",
    "        ...\n",
    "\n",
    "    def fit(self, X, y):\n",
    "        # Simple fit method that calculates the mean of the target\n",
    "        self.X = np.hstack((np.ones([X.shape[0],1], X.dtype), X))\n",
    "        self.y = y\n",
    "        self.N, self.p = X.shape\n",
    "        \n",
    "        self.weights = np.linalg.inv(self.X.T @ self.X) @ self.X.T @ y\n",
    "        \n",
    "        return self\n",
    "\n",
    "    def predict(self, X):\n",
    "        _X = np.hstack((np.ones([X.shape[0],1], X.dtype), X))\n",
    "        return _X @ self.weights\n",
    "    \n",
    "    def get_variance(self):\n",
    "        y_hat = self.predict(self.X)\n",
    "        return 1/(self.N - self.p - 1) * np.sum((y_hat - self.y)**2)\n",
    "    \n",
    "    def get_params_covariance(self) -> np.ndarray:\n",
    "        \"\"\"The variance–covariance matrix of the least squares parameter estimates\n",
    "\n",
    "        Returns:\n",
    "            np.ndarray: The variance–covariance matrix\n",
    "        \"\"\"\n",
    "        return np.linalg.inv(self.X.T @ self.X) * self.get_variance()"
   ]
  },
  {
   "cell_type": "code",
   "execution_count": 5,
   "metadata": {},
   "outputs": [
    {
     "data": {
      "text/plain": [
       "array([1.1, 2.2, 3.3, 4.4])"
      ]
     },
     "execution_count": 5,
     "metadata": {},
     "output_type": "execute_result"
    }
   ],
   "source": [
    "ols = OLSRegressor().fit(X, y)\n",
    "y_hat = ols.predict(X)\n",
    "y_hat"
   ]
  },
  {
   "cell_type": "code",
   "execution_count": 6,
   "metadata": {},
   "outputs": [
    {
     "data": {
      "text/plain": [
       "array([[ 0.27 , -0.675],\n",
       "       [-0.675,  2.025]])"
      ]
     },
     "execution_count": 6,
     "metadata": {},
     "output_type": "execute_result"
    }
   ],
   "source": [
    "ols.get_params_covariance()"
   ]
  }
 ],
 "metadata": {
  "kernelspec": {
   "display_name": "ML",
   "language": "python",
   "name": "python3"
  },
  "language_info": {
   "codemirror_mode": {
    "name": "ipython",
    "version": 3
   },
   "file_extension": ".py",
   "mimetype": "text/x-python",
   "name": "python",
   "nbconvert_exporter": "python",
   "pygments_lexer": "ipython3",
   "version": "3.10.9"
  }
 },
 "nbformat": 4,
 "nbformat_minor": 2
}
