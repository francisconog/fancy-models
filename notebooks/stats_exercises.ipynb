{
 "cells": [
  {
   "cell_type": "code",
   "execution_count": 40,
   "metadata": {},
   "outputs": [],
   "source": [
    "from math import factorial, exp"
   ]
  },
  {
   "cell_type": "code",
   "execution_count": 4,
   "metadata": {},
   "outputs": [],
   "source": [
    "def nPr(n, r):\n",
    "    return int(factorial(n)/factorial(n-r))\n",
    "\n",
    "\n",
    "def nCr(n, r):\n",
    "    return int(factorial(n)/(factorial(r)*factorial(n-r)))"
   ]
  },
  {
   "cell_type": "markdown",
   "metadata": {},
   "source": [
    "## 4.46"
   ]
  },
  {
   "cell_type": "code",
   "execution_count": 7,
   "metadata": {},
   "outputs": [],
   "source": [
    "def p_binomial(n, x, theta):\n",
    "    return nCr(n, x) * theta**x * (1 - theta)**(n-x)"
   ]
  },
  {
   "cell_type": "code",
   "execution_count": 19,
   "metadata": {},
   "outputs": [
    {
     "name": "stdout",
     "output_type": "stream",
     "text": [
      "0.7945689497600001\n",
      "1.658350000000001e-07\n"
     ]
    },
    {
     "data": {
      "text/plain": [
       "0.5164698753862501"
      ]
     },
     "execution_count": 19,
     "metadata": {},
     "output_type": "execute_result"
    }
   ],
   "source": [
    "p1 = sum([p_binomial(12, x, 0.8) for x in range(9, 13)])\n",
    "p2 = sum([p_binomial(12, x, 0.1) for x in range(9, 13)])\n",
    "print(p1)\n",
    "print(p2)\n",
    "\n",
    "p1 * 0.65 + p2 * 0.35"
   ]
  },
  {
   "cell_type": "markdown",
   "metadata": {},
   "source": [
    "## 4.47"
   ]
  },
  {
   "cell_type": "code",
   "execution_count": 27,
   "metadata": {},
   "outputs": [
    {
     "name": "stdout",
     "output_type": "stream",
     "text": [
      "i=4; N=7; p=0.8740\n",
      "i=5; N=8; p=0.8059\n",
      "i=5; N=9; p=0.9012\n"
     ]
    }
   ],
   "source": [
    "for n in range(7, 10):\n",
    "    i=n//2+1\n",
    "    p = sum([p_binomial(n, x, 0.7) for x in range(i, n+1)])\n",
    "    print(f\"i={i}; N={n}; p={p:.4f}\")"
   ]
  },
  {
   "cell_type": "code",
   "execution_count": 24,
   "metadata": {},
   "outputs": [
    {
     "name": "stdout",
     "output_type": "stream",
     "text": [
      "i=4; N=7; p=0.8740\n",
      "i=5; N=8; p=0.9420\n",
      "i=5; N=9; p=0.9012\n"
     ]
    }
   ],
   "source": [
    "for n in range(7, 10):\n",
    "    i=n//2+1\n",
    "    p = 1 - sum([p_binomial(n, x, 0.3) for x in range(i, n+1)])\n",
    "    print(f\"i={i}; N={n}; p={p:.4f}\")"
   ]
  },
  {
   "cell_type": "code",
   "execution_count": 26,
   "metadata": {},
   "outputs": [
    {
     "name": "stdout",
     "output_type": "stream",
     "text": [
      "P(F|n=7)=0.4252\n",
      "P(F|n=8)=0.4933\n",
      "P(F|n=9)=0.4198\n"
     ]
    }
   ],
   "source": [
    "for n in range(7, 10):\n",
    "    i=n//2+1\n",
    "    p1 = 1 - sum([p_binomial(n, x, 0.7) for x in range(i, n+1)])\n",
    "    p2 = 1 - sum([p_binomial(n, x, 0.3) for x in range(i, n+1)])\n",
    "    p = 0.6 * p1 + 0.4 * p2\n",
    "    print(f\"P(F|n={n})={p:.4f}\")"
   ]
  },
  {
   "cell_type": "markdown",
   "metadata": {},
   "source": [
    "## 4.49"
   ]
  },
  {
   "cell_type": "code",
   "execution_count": 38,
   "metadata": {},
   "outputs": [
    {
     "name": "stdout",
     "output_type": "stream",
     "text": [
      "0.0425\n",
      "0.2668\n",
      "0.1546\n"
     ]
    }
   ],
   "source": [
    "PE_C1 = p_binomial(10, 7, 0.4)\n",
    "PE_C2 = p_binomial(10, 7, 0.7)\n",
    "print(\"%.4f\" % PE_C1)\n",
    "print(\"%.4f\" % PE_C2)\n",
    "print(\"%.4f\" % (sum([PE_C1, PE_C2])/2))"
   ]
  },
  {
   "cell_type": "code",
   "execution_count": 39,
   "metadata": {},
   "outputs": [
    {
     "name": "stdout",
     "output_type": "stream",
     "text": [
      "0.0743\n",
      "0.2668\n",
      "0.1706\n"
     ]
    }
   ],
   "source": [
    "PE_C1 = p_binomial(9, 6, 0.4)\n",
    "PE_C2 = p_binomial(9, 6, 0.7)\n",
    "print(\"%.4f\" % PE_C1)\n",
    "print(\"%.4f\" % PE_C2)\n",
    "print(\"%.4f\" % (sum([PE_C1, PE_C2])/2))"
   ]
  },
  {
   "cell_type": "markdown",
   "metadata": {},
   "source": [
    "## 4.52"
   ]
  },
  {
   "cell_type": "code",
   "execution_count": 43,
   "metadata": {},
   "outputs": [],
   "source": [
    "def p_poisson(_lambda, x):\n",
    "    return (exp(-_lambda) * _lambda**x)/factorial(x)"
   ]
  },
  {
   "cell_type": "code",
   "execution_count": 49,
   "metadata": {},
   "outputs": [
    {
     "name": "stdout",
     "output_type": "stream",
     "text": [
      "['P(X=0)=0.0302', 'P(X=1)=0.1057']\n",
      "P(X>=2)=0.8641\n",
      "P(X<=1)=0.1359\n"
     ]
    }
   ],
   "source": [
    "probs = []\n",
    "partial_p = []\n",
    "for i in range(2):\n",
    "    p = p_poisson(3.5, i)\n",
    "    probs.append(p)\n",
    "    partial_p.append(f\"P(X={i})={p:.4f}\")\n",
    "    \n",
    "\n",
    "print(partial_p)\n",
    "print(\"P(X>=%d)=%.4f\" % (i+1, 1-sum(probs)))\n",
    "print(\"P(X<=%d)=%.4f\" % (i, sum(probs)))"
   ]
  },
  {
   "cell_type": "markdown",
   "metadata": {},
   "source": [
    "## 4.55"
   ]
  },
  {
   "cell_type": "code",
   "execution_count": 51,
   "metadata": {},
   "outputs": [
    {
     "name": "stdout",
     "output_type": "stream",
     "text": [
      "P(X=0|C1) = 0.0498\n",
      "P(X=0|C2) = 0.0150\n",
      "P(X=0) = 0.03239\n"
     ]
    }
   ],
   "source": [
    "P1 = p_poisson(3, 0)\n",
    "P2 = p_poisson(4.2, 0)\n",
    "print(\"P(X=0|C1) = %.4f\" % P1)\n",
    "print(\"P(X=0|C2) = %.4f\" % P2)\n",
    "print(\"P(X=0) = %.5f\" % (P1*0.5 + P2*0.5))"
   ]
  },
  {
   "cell_type": "code",
   "execution_count": 54,
   "metadata": {},
   "outputs": [],
   "source": [
    "from functools import reduce"
   ]
  },
  {
   "cell_type": "code",
   "execution_count": 61,
   "metadata": {},
   "outputs": [
    {
     "data": {
      "text/plain": [
       "0.556311664834794"
      ]
     },
     "execution_count": 61,
     "metadata": {},
     "output_type": "execute_result"
    }
   ],
   "source": [
    "reduce(lambda x,y: x*y, [x/365 for x in range(364, 364-20,-1)])"
   ]
  },
  {
   "cell_type": "code",
   "execution_count": 72,
   "metadata": {},
   "outputs": [
    {
     "data": {
      "text/plain": [
       "0.9985635487881166"
      ]
     },
     "execution_count": 72,
     "metadata": {},
     "output_type": "execute_result"
    }
   ],
   "source": [
    "def p_birthday(n):\n",
    "    return factorial(364)/(factorial(365-n)*365**n)\n",
    "\n",
    "1 - p_birthday(22)"
   ]
  },
  {
   "cell_type": "code",
   "execution_count": 66,
   "metadata": {},
   "outputs": [
    {
     "data": {
      "text/plain": [
       "0.0027397260273972603"
      ]
     },
     "execution_count": 66,
     "metadata": {},
     "output_type": "execute_result"
    }
   ],
   "source": [
    "1/365"
   ]
  },
  {
   "cell_type": "markdown",
   "metadata": {},
   "source": [
    "## 5.15"
   ]
  },
  {
   "cell_type": "code",
   "execution_count": 1,
   "metadata": {},
   "outputs": [],
   "source": [
    "from scipy.stats import norm"
   ]
  },
  {
   "cell_type": "code",
   "execution_count": 14,
   "metadata": {},
   "outputs": [
    {
     "name": "stdout",
     "output_type": "stream",
     "text": [
      "P[X>5] = 0.7977\n",
      "P[4<X<16] = 0.7999\n",
      "P[X<8] = 0.3694\n",
      "P[X<20] = 0.9522\n",
      "P[X>16] = 0.1587\n"
     ]
    }
   ],
   "source": [
    "mean = 10\n",
    "std = 6\n",
    "calc_Z = lambda x: (x-mean) / std\n",
    "\n",
    "print(\"P[X>5] = %.4f\" % (1 - norm.cdf(calc_Z(5))))\n",
    "print(\"P[4<X<16] = %.4f\" % (norm.cdf(calc_Z(16) - norm.cdf(calc_Z(4)))))\n",
    "print(\"P[X<8] = %.4f\" % (norm.cdf(calc_Z(8))))\n",
    "print(\"P[X<20] = %.4f\" % (norm.cdf(calc_Z(20))))\n",
    "print(\"P[X>16] = %.4f\" % (1 - norm.cdf(calc_Z(16))))\n"
   ]
  },
  {
   "cell_type": "code",
   "execution_count": null,
   "metadata": {},
   "outputs": [
    {
     "data": {
      "text/plain": [
       "7.999342722194397"
      ]
     },
     "execution_count": 19,
     "metadata": {},
     "output_type": "execute_result"
    }
   ],
   "source": []
  },
  {
   "cell_type": "markdown",
   "metadata": {},
   "source": [
    "## 5.16"
   ]
  },
  {
   "cell_type": "code",
   "execution_count": 17,
   "metadata": {},
   "outputs": [
    {
     "name": "stdout",
     "output_type": "stream",
     "text": [
      "P[X<50] = 0.9938\n",
      "(P[X<50])^10 = 0.9396\n"
     ]
    }
   ],
   "source": [
    "mean = 40\n",
    "std = 4\n",
    "calc_Z = lambda x: (x-mean) / std\n",
    "\n",
    "print(\"P[X<50] = %.4f\" % (norm.cdf(calc_Z(50))))\n",
    "print(\"(P[X<50])^10 = %.4f\" % (norm.cdf(calc_Z(50))**10))"
   ]
  },
  {
   "cell_type": "markdown",
   "metadata": {},
   "source": [
    "# 5.17"
   ]
  },
  {
   "cell_type": "code",
   "execution_count": 26,
   "metadata": {},
   "outputs": [
    {
     "name": "stdout",
     "output_type": "stream",
     "text": [
      "Z = -0.4818; P[X<200,000] = 0.3150\n",
      "Z = 0.2891; P[X<280,000<X<320,000] = 0.1363\n"
     ]
    }
   ],
   "source": [
    "std = (180e3-250e3)/norm.ppf(0.25)\n",
    "mean = 250e3\n",
    "calc_Z = lambda x: (x-mean) / std\n",
    "\n",
    "print(\"Z = %.4f; P[X<200,000] = %.4f\" % (calc_Z(2e5), norm.cdf(calc_Z(2e5))))\n",
    "print(\"Z = %.4f; P[X<280,000<X<320,000] = %.4f\" % (calc_Z(280e3), 0.75 - norm.cdf(calc_Z(280e3))))"
   ]
  },
  {
   "cell_type": "code",
   "execution_count": 28,
   "metadata": {},
   "outputs": [
    {
     "data": {
      "text/plain": [
       "0.6137349605676256"
      ]
     },
     "execution_count": 28,
     "metadata": {},
     "output_type": "execute_result"
    }
   ],
   "source": [
    "norm.cdf(calc_Z(280e3))"
   ]
  },
  {
   "cell_type": "markdown",
   "metadata": {},
   "source": [
    "## 5.18"
   ]
  },
  {
   "cell_type": "code",
   "execution_count": 29,
   "metadata": {},
   "outputs": [
    {
     "data": {
      "text/plain": [
       "0.8416212335729143"
      ]
     },
     "execution_count": 29,
     "metadata": {},
     "output_type": "execute_result"
    }
   ],
   "source": [
    "z = norm.ppf(0.8)\n",
    "\n",
    "z"
   ]
  }
 ],
 "metadata": {
  "kernelspec": {
   "display_name": "ML",
   "language": "python",
   "name": "python3"
  },
  "language_info": {
   "codemirror_mode": {
    "name": "ipython",
    "version": 3
   },
   "file_extension": ".py",
   "mimetype": "text/x-python",
   "name": "python",
   "nbconvert_exporter": "python",
   "pygments_lexer": "ipython3",
   "version": "3.10.9"
  }
 },
 "nbformat": 4,
 "nbformat_minor": 2
}
